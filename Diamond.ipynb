{
  "nbformat": 4,
  "nbformat_minor": 0,
  "metadata": {
    "colab": {
      "name": "Diamond.ipynb",
      "provenance": [],
      "authorship_tag": "ABX9TyPjsDYQymH7rOvBKMHbcwsW",
      "include_colab_link": true
    },
    "kernelspec": {
      "name": "python3",
      "display_name": "Python 3"
    },
    "language_info": {
      "name": "python"
    }
  },
  "cells": [
    {
      "cell_type": "markdown",
      "metadata": {
        "id": "view-in-github",
        "colab_type": "text"
      },
      "source": [
        "<a href=\"https://colab.research.google.com/github/KarlisDambis/Printing-Diamond-with-odd-numbers/blob/main/Diamond.ipynb\" target=\"_parent\"><img src=\"https://colab.research.google.com/assets/colab-badge.svg\" alt=\"Open In Colab\"/></a>"
      ]
    },
    {
      "cell_type": "code",
      "metadata": {
        "colab": {
          "base_uri": "https://localhost:8080/"
        },
        "id": "db4Zjvg01Czj",
        "outputId": "6719a22e-6e1f-4da1-e6bf-c0aa7f98ec6f"
      },
      "source": [
        "print(\"Give the value of n(odd):\")\n",
        "n=int(input())\n",
        "x=n//2+1\n",
        "for i,j in zip(range(1,x+1),range(1,n+1,2)):\n",
        "  print(' '*(x-i)+'*'*(j))\n",
        "for i,j in zip(range(1,x+1),range(n-2,-1,-2)):\n",
        "  print(' '*(i)+'*'*(j))"
      ],
      "execution_count": 5,
      "outputs": [
        {
          "output_type": "stream",
          "text": [
            "Give the value of n(odd):\n",
            "9\n",
            "    *\n",
            "   ***\n",
            "  *****\n",
            " *******\n",
            "*********\n",
            " *******\n",
            "  *****\n",
            "   ***\n",
            "    *\n"
          ],
          "name": "stdout"
        }
      ]
    }
  ]
}